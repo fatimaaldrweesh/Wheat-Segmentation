{
 "cells": [
  {
   "cell_type": "code",
   "execution_count": 3,
   "id": "5787958e",
   "metadata": {},
   "outputs": [],
   "source": [
    "import os\n",
    "import shutil\n",
    "\n",
    "# Path to your dataset folders\n",
    "images_folder = 'C:\\\\Users\\\\user\\\\OneDrive\\\\Desktop\\\\images and masks\\\\train'\n",
    "masks_folder = 'C:\\\\Users\\\\user\\\\OneDrive\\\\Desktop\\\\images and masks\\\\SegmentationClass'\n",
    "images2_folder = 'C:\\\\Users\\\\user\\\\OneDrive\\\\Desktop\\\\images and masks\\\\images'\n",
    "\n",
    "# Get the list of filenames in the images folder (without extensions)\n",
    "image_filenames = [os.path.splitext(filename)[0] for filename in os.listdir(images_folder)]\n",
    "\n",
    "# Get the list of filenames in the masks folder (without extensions)\n",
    "mask_filenames = [os.path.splitext(filename)[0] for filename in os.listdir(masks_folder)]\n",
    "\n",
    "# Find common filenames between images and masks\n",
    "common_filenames = set(image_filenames).intersection(mask_filenames)\n",
    "\n",
    "# Create images2 folder if it doesn't exist\n",
    "os.makedirs(images2_folder, exist_ok=True)\n",
    "\n",
    "# Move images from images folder to images2 folder if they have corresponding masks\n",
    "for filename in common_filenames:\n",
    "    src = os.path.join(images_folder, filename + '.jpg')  # Assuming image format is JPG\n",
    "    dst = os.path.join(images2_folder, filename + '.jpg')  # Assuming image format is JPG\n",
    "    shutil.move(src, dst)\n"
   ]
  },
  {
   "cell_type": "code",
   "execution_count": 4,
   "id": "5281e067",
   "metadata": {},
   "outputs": [
    {
     "name": "stdout",
     "output_type": "stream",
     "text": [
      "Collecting split-folders\n",
      "  Obtaining dependency information for split-folders from https://files.pythonhosted.org/packages/b6/d5/307d63c03356bad6e141d8718d3f4116f51bd9c4b09e2614ffcee1f3c6fd/split_folders-0.5.1-py3-none-any.whl.metadata\n",
      "  Downloading split_folders-0.5.1-py3-none-any.whl.metadata (6.2 kB)\n",
      "Downloading split_folders-0.5.1-py3-none-any.whl (8.4 kB)\n",
      "Installing collected packages: split-folders\n",
      "Successfully installed split-folders-0.5.1\n"
     ]
    }
   ],
   "source": [
    "\n",
    "!pip install split-folders"
   ]
  },
  {
   "cell_type": "code",
   "execution_count": 15,
   "id": "3b77cba9",
   "metadata": {},
   "outputs": [],
   "source": [
    "\n",
    "import splitfolders  \n",
    "input_folder = 'C:\\\\Users\\\\user\\\\OneDrive\\\\Desktop\\\\images and masks\\\\data befor split'\n",
    "output_folder='C:\\\\Users\\\\user\\\\OneDrive\\\\Desktop\\\\images and masks\\\\dataset'"
   ]
  },
  {
   "cell_type": "code",
   "execution_count": 16,
   "id": "decdeb04",
   "metadata": {},
   "outputs": [
    {
     "name": "stderr",
     "output_type": "stream",
     "text": [
      "Copying files: 6750 files [00:08, 780.03 files/s] \n"
     ]
    }
   ],
   "source": [
    "import os\n",
    "\n",
    "# Split both images and masks folders simultaneously\n",
    "splitfolders.ratio(input_folder, output=output_folder, seed=42, ratio=(.8, .2), group_prefix=None)\n"
   ]
  },
  {
   "cell_type": "code",
   "execution_count": null,
   "id": "42283aa9",
   "metadata": {},
   "outputs": [],
   "source": []
  }
 ],
 "metadata": {
  "kernelspec": {
   "display_name": "Python 3 (ipykernel)",
   "language": "python",
   "name": "python3"
  },
  "language_info": {
   "codemirror_mode": {
    "name": "ipython",
    "version": 3
   },
   "file_extension": ".py",
   "mimetype": "text/x-python",
   "name": "python",
   "nbconvert_exporter": "python",
   "pygments_lexer": "ipython3",
   "version": "3.11.5"
  }
 },
 "nbformat": 4,
 "nbformat_minor": 5
}
